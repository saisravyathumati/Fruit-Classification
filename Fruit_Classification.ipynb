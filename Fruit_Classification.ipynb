{
  "nbformat": 4,
  "nbformat_minor": 0,
  "metadata": {
    "colab": {
      "name": "Fruit Classification.ipynb",
      "provenance": []
    },
    "kernelspec": {
      "name": "python3",
      "display_name": "Python 3"
    },
    "accelerator": "GPU"
  },
  "cells": [
    {
      "cell_type": "code",
      "metadata": {
        "id": "30wDelRhJnuq",
        "colab": {
          "base_uri": "https://localhost:8080/",
          "height": 51
        },
        "outputId": "f792dc1d-60e9-4625-8f3e-523d8c216452"
      },
      "source": [
        "\"\"\"importing libraries\"\"\"\n",
        "import numpy as np\n",
        "import tensorflow as tf\n",
        "from tensorflow import keras\n",
        "import matplotlib.pyplot as plt\n",
        "from tensorflow.keras.preprocessing.image import ImageDataGenerator\n",
        "from tensorflow.keras.applications import InceptionV3\n",
        "from tensorflow.keras.models import Model\n",
        "from keras.preprocessing import image\n",
        "\n",
        "%tensorflow_version 2.x\n",
        "print(\"We are now working with tensorflow version: \",tf.__version__)"
      ],
      "execution_count": null,
      "outputs": [
        {
          "output_type": "stream",
          "text": [
            "We are now working with tensorflow version:  2.2.0\n"
          ],
          "name": "stdout"
        },
        {
          "output_type": "stream",
          "text": [
            "Using TensorFlow backend.\n"
          ],
          "name": "stderr"
        }
      ]
    },
    {
      "cell_type": "code",
      "metadata": {
        "id": "h4URsLHDqLdk"
      },
      "source": [
        "\"\"\"IMPORT DATASET\"\"\"\n",
        "import zipfile\n",
        "import os\n",
        "zip_path='/content/drive/My Drive/Fruits/jetson-fruits-classification-master.zip'\n",
        "zip_ref = zipfile.ZipFile(zip_path,'r')\n",
        "zip_ref.extractall('/tmp')\n",
        "zip_ref.close()"
      ],
      "execution_count": null,
      "outputs": []
    },
    {
      "cell_type": "code",
      "metadata": {
        "id": "o35k8uGnPzTY"
      },
      "source": [
        "train_path='/tmp/jetson-fruits-classification-master/fruits-dataset'"
      ],
      "execution_count": null,
      "outputs": []
    },
    {
      "cell_type": "code",
      "metadata": {
        "id": "gkiDJGY1C86c"
      },
      "source": [
        "classes=['apple','pomegranate','beetroot','dates','mango','orange']"
      ],
      "execution_count": null,
      "outputs": []
    },
    {
      "cell_type": "code",
      "metadata": {
        "id": "YjlA6kBaS0Ez",
        "colab": {
          "base_uri": "https://localhost:8080/",
          "height": 34
        },
        "outputId": "0a29e752-6468-4eef-e034-3fd2c85b3f3f"
      },
      "source": [
        "train_datagen = ImageDataGenerator(rescale = 1./255.,\n",
        "                                   rotation_range = 40,\n",
        "                                   width_shift_range = 0.2,\n",
        "                                   height_shift_range = 0.2,\n",
        "                                   shear_range = 0.2,\n",
        "                                   zoom_range = 0.2,\n",
        "                                   horizontal_flip = True)\n",
        "\n",
        "\n",
        "train_generator = train_datagen.flow_from_directory(train_path,\n",
        "                                                    batch_size = 20,\n",
        "                                                    class_mode = 'categorical', \n",
        "                                                    target_size = (229,229))     \n",
        "\n"
      ],
      "execution_count": null,
      "outputs": [
        {
          "output_type": "stream",
          "text": [
            "Found 600 images belonging to 6 classes.\n"
          ],
          "name": "stdout"
        }
      ]
    },
    {
      "cell_type": "code",
      "metadata": {
        "id": "n2qTN8EnS8Vl",
        "colab": {
          "base_uri": "https://localhost:8080/",
          "height": 71
        },
        "outputId": "d15b9920-3d76-4ac4-93e7-dc7441803204"
      },
      "source": [
        "conv_base=InceptionV3(input_shape=(229,229,3),include_top=False,weights='imagenet')"
      ],
      "execution_count": null,
      "outputs": [
        {
          "output_type": "stream",
          "text": [
            "Downloading data from https://storage.googleapis.com/tensorflow/keras-applications/inception_v3/inception_v3_weights_tf_dim_ordering_tf_kernels_notop.h5\n",
            "87916544/87910968 [==============================] - 5s 0us/step\n"
          ],
          "name": "stdout"
        }
      ]
    },
    {
      "cell_type": "code",
      "metadata": {
        "id": "XkFttiU2UKiP"
      },
      "source": [
        "for layer in conv_base.layers:\n",
        "  layer.trainable=False"
      ],
      "execution_count": null,
      "outputs": []
    },
    {
      "cell_type": "code",
      "metadata": {
        "id": "VEuBdkEAoVa5"
      },
      "source": [
        "x=conv_base.output\n",
        "x=tf.keras.layers.GlobalAveragePooling2D()(x)\n",
        "predictions=tf.keras.layers.Dense(6,activation='softmax')(x)\n",
        "model=tf.keras.Model(conv_base.input,predictions)"
      ],
      "execution_count": null,
      "outputs": []
    },
    {
      "cell_type": "code",
      "metadata": {
        "id": "bLngXrFNUp3O"
      },
      "source": [
        "model.compile(\n",
        "  loss='categorical_crossentropy',\n",
        "  optimizer='adam',\n",
        "  metrics=['accuracy']\n",
        ")"
      ],
      "execution_count": null,
      "outputs": []
    },
    {
      "cell_type": "code",
      "metadata": {
        "id": "wXLTvqAzU8H-",
        "colab": {
          "base_uri": "https://localhost:8080/",
          "height": 938
        },
        "outputId": "c1a31f64-8bab-45d0-90ad-bbcb971bf81b"
      },
      "source": [
        "r = model.fit_generator(train_generator,epochs=25,steps_per_epoch=10)"
      ],
      "execution_count": null,
      "outputs": [
        {
          "output_type": "stream",
          "text": [
            "WARNING:tensorflow:From <ipython-input-10-74325ee862a7>:1: Model.fit_generator (from tensorflow.python.keras.engine.training) is deprecated and will be removed in a future version.\n",
            "Instructions for updating:\n",
            "Please use Model.fit, which supports generators.\n",
            "Epoch 1/25\n",
            "10/10 [==============================] - 4s 430ms/step - loss: 1.3505 - accuracy: 0.4750\n",
            "Epoch 2/25\n",
            "10/10 [==============================] - 5s 469ms/step - loss: 0.5113 - accuracy: 0.9050\n",
            "Epoch 3/25\n",
            "10/10 [==============================] - 5s 465ms/step - loss: 0.2191 - accuracy: 0.9750\n",
            "Epoch 4/25\n",
            "10/10 [==============================] - 5s 467ms/step - loss: 0.1989 - accuracy: 0.9700\n",
            "Epoch 5/25\n",
            "10/10 [==============================] - 5s 472ms/step - loss: 0.1100 - accuracy: 0.9800\n",
            "Epoch 6/25\n",
            "10/10 [==============================] - 5s 471ms/step - loss: 0.0895 - accuracy: 0.9900\n",
            "Epoch 7/25\n",
            "10/10 [==============================] - 5s 464ms/step - loss: 0.0863 - accuracy: 0.9850\n",
            "Epoch 8/25\n",
            "10/10 [==============================] - 5s 469ms/step - loss: 0.0700 - accuracy: 0.9950\n",
            "Epoch 9/25\n",
            "10/10 [==============================] - 5s 475ms/step - loss: 0.0565 - accuracy: 0.9900\n",
            "Epoch 10/25\n",
            "10/10 [==============================] - 5s 474ms/step - loss: 0.0505 - accuracy: 1.0000\n",
            "Epoch 11/25\n",
            "10/10 [==============================] - 5s 476ms/step - loss: 0.0601 - accuracy: 0.9900\n",
            "Epoch 12/25\n",
            "10/10 [==============================] - 5s 472ms/step - loss: 0.0586 - accuracy: 0.9850\n",
            "Epoch 13/25\n",
            "10/10 [==============================] - 5s 474ms/step - loss: 0.0536 - accuracy: 0.9950\n",
            "Epoch 14/25\n",
            "10/10 [==============================] - 5s 469ms/step - loss: 0.0650 - accuracy: 0.9800\n",
            "Epoch 15/25\n",
            "10/10 [==============================] - 5s 468ms/step - loss: 0.0451 - accuracy: 0.9950\n",
            "Epoch 16/25\n",
            "10/10 [==============================] - 5s 476ms/step - loss: 0.0337 - accuracy: 0.9950\n",
            "Epoch 17/25\n",
            "10/10 [==============================] - 5s 472ms/step - loss: 0.0385 - accuracy: 0.9900\n",
            "Epoch 18/25\n",
            "10/10 [==============================] - 5s 474ms/step - loss: 0.0301 - accuracy: 1.0000\n",
            "Epoch 19/25\n",
            "10/10 [==============================] - 5s 468ms/step - loss: 0.0332 - accuracy: 1.0000\n",
            "Epoch 20/25\n",
            "10/10 [==============================] - 5s 471ms/step - loss: 0.0306 - accuracy: 1.0000\n",
            "Epoch 21/25\n",
            "10/10 [==============================] - 5s 474ms/step - loss: 0.0370 - accuracy: 0.9950\n",
            "Epoch 22/25\n",
            "10/10 [==============================] - 5s 476ms/step - loss: 0.0421 - accuracy: 0.9950\n",
            "Epoch 23/25\n",
            "10/10 [==============================] - 5s 475ms/step - loss: 0.0362 - accuracy: 0.9900\n",
            "Epoch 24/25\n",
            "10/10 [==============================] - 5s 473ms/step - loss: 0.0201 - accuracy: 1.0000\n",
            "Epoch 25/25\n",
            "10/10 [==============================] - 5s 470ms/step - loss: 0.0315 - accuracy: 1.0000\n"
          ],
          "name": "stdout"
        }
      ]
    },
    {
      "cell_type": "code",
      "metadata": {
        "id": "zFgSObC_VFCX",
        "colab": {
          "base_uri": "https://localhost:8080/",
          "height": 295
        },
        "outputId": "debc5cf9-54d1-4833-9085-4bcd129ab821"
      },
      "source": [
        "# summarize history for accuracy\n",
        "plt.plot(r.history['accuracy'])\n",
        "plt.plot(r.history['loss'])\n",
        "plt.title('model accuracy and loss')\n",
        "plt.ylabel('accuracy and loss')\n",
        "plt.xlabel('epoch')\n",
        "plt.legend(['accuracy', 'loss'], loc='upper left')\n",
        "plt.show()"
      ],
      "execution_count": null,
      "outputs": [
        {
          "output_type": "display_data",
          "data": {
            "image/png": "[encoded data removed]",
            "text/plain": [
              "<Figure size 432x288 with 1 Axes>"
            ]
          },
          "metadata": {
            "tags": [],
            "needs_background": "light"
          }
        }
      ]
    },
    {
      "cell_type": "code",
      "metadata": {
        "id": "U3UszZVZ5M_O"
      },
      "source": [
        "test_img='/tmp/jetson-fruits-classification-master/test-images/'\n",
        "img_path='/tmp/jetson-fruits-classification-master/test-images/apple.jpeg'"
      ],
      "execution_count": null,
      "outputs": []
    },
    {
      "cell_type": "code",
      "metadata": {
        "id": "qFi5RDyI6kGU",
        "colab": {
          "base_uri": "https://localhost:8080/",
          "height": 51
        },
        "outputId": "ccd27e8e-f62a-4c20-e058-249b3ebf96b7"
      },
      "source": [
        "print(test_img)\n",
        "print(img_path)"
      ],
      "execution_count": null,
      "outputs": [
        {
          "output_type": "stream",
          "text": [
            "/tmp/jetson-fruits-classification-master/test-images/\n",
            "/tmp/jetson-fruits-classification-master/test-images/apple.jpeg\n"
          ],
          "name": "stdout"
        }
      ]
    },
    {
      "cell_type": "code",
      "metadata": {
        "id": "ndJVQkuD8fQ2"
      },
      "source": [
        "def load_image(img_path, show=True):\n",
        "\n",
        "    img = image.load_img(img_path, target_size=(150, 150))\n",
        "    img_tensor = image.img_to_array(img)                    # (height, width, channels)\n",
        "    img_tensor = np.expand_dims(img_tensor, axis=0)         # (1, height, width, channels), add a dimension because the model expects this shape: (batch_size, height, width, channels)\n",
        "    img_tensor /= 255.                                      # imshow expects values in the range [0, 1]\n",
        "\n",
        "    if show:\n",
        "        plt.imshow(img_tensor[0])                           \n",
        "        plt.axis('off')\n",
        "        plt.show()\n",
        "\n",
        "    return img_tensor\n"
      ],
      "execution_count": null,
      "outputs": []
    },
    {
      "cell_type": "code",
      "metadata": {
        "id": "IL7xwNGD-Er9",
        "colab": {
          "base_uri": "https://localhost:8080/",
          "height": 207
        },
        "outputId": "e186bf94-cadc-4200-81b8-935b2b4c8ee9"
      },
      "source": [
        "# predicting images\n",
        "img = image.load_img('/tmp/jetson-fruits-classification-master/test-images/apple.jpeg', target_size=(150,150))\n",
        "x = image.img_to_array(img)\n",
        "x = np.expand_dims(x, axis=0)\n",
        "\n",
        "images = np.vstack([x])\n",
        "classes = model.predict(images, batch_size=10)\n",
        "print(classes)\n",
        "\n",
        "# predicting multiple images at once\n",
        "img = image.load_img('/tmp/jetson-fruits-classification-master/test-images/mango.jpeg', target_size=(150,150))\n",
        "y = image.img_to_array(img)\n",
        "y = np.expand_dims(y, axis=0)\n",
        "\n",
        "# pass the list of multiple images np.vstack()\n",
        "images = np.vstack([x, y])\n",
        "classes = model.predict(images, batch_size=10)\n",
        "\n",
        "# print the classes, the images belong to\n",
        "print(classes)\n",
        "print(classes[0])\n",
        "print(classes[0][0])"
      ],
      "execution_count": null,
      "outputs": [
        {
          "output_type": "stream",
          "text": [
            "WARNING:tensorflow:Model was constructed with shape (None, 229, 229, 3) for input Tensor(\"input_1:0\", shape=(None, 229, 229, 3), dtype=float32), but it was called on an input with incompatible shape (None, 150, 150, 3).\n",
            "[[0.0000000e+00 2.7582104e-33 1.0000000e+00 0.0000000e+00 0.0000000e+00\n",
            "  0.0000000e+00]]\n",
            "[[0.0000000e+00 2.7582104e-33 1.0000000e+00 0.0000000e+00 0.0000000e+00\n",
            "  0.0000000e+00]\n",
            " [0.0000000e+00 0.0000000e+00 1.0000000e+00 0.0000000e+00 0.0000000e+00\n",
            "  0.0000000e+00]]\n",
            "[0.0000000e+00 2.7582104e-33 1.0000000e+00 0.0000000e+00 0.0000000e+00\n",
            " 0.0000000e+00]\n",
            "0.0\n"
          ],
          "name": "stdout"
        }
      ]
    },
    {
      "cell_type": "code",
      "metadata": {
        "id": "sQemWXjxBP4O"
      },
      "source": [
        "def load_image(img_path, show=True):\n",
        "\n",
        "    img = image.load_img(img_path, target_size=(150, 150))\n",
        "    img_tensor = image.img_to_array(img)                    # (height, width, channels)\n",
        "    img_tensor = np.expand_dims(img_tensor, axis=0)         # (1, height, width, channels), add a dimension because the model expects this shape: (batch_size, height, width, channels)\n",
        "    img_tensor /= 255.                                      # imshow expects values in the range [0, 1]\n",
        "\n",
        "    if show:\n",
        "        plt.imshow(img_tensor[0])                           \n",
        "        plt.axis('off')\n",
        "        plt.show()\n",
        "\n",
        "    return img_tensor\n"
      ],
      "execution_count": null,
      "outputs": []
    },
    {
      "cell_type": "code",
      "metadata": {
        "id": "A48f8NONB_eS",
        "colab": {
          "base_uri": "https://localhost:8080/",
          "height": 299
        },
        "outputId": "add10c01-60a5-4e8c-a8e7-057d1fdfcd02"
      },
      "source": [
        "# load a single image\n",
        "new_image = load_image(img_path)\n",
        "print(new_image.shape)\n",
        "\n",
        "# check prediction\n",
        "pred = model.predict(new_image)\n",
        "print(pred)"
      ],
      "execution_count": null,
      "outputs": [
        {
          "output_type": "display_data",
          "data": {
            "image/png": "[encoded data removed]",
            "text/plain": [
              "<Figure size 432x288 with 1 Axes>"
            ]
          },
          "metadata": {
            "tags": [],
            "needs_background": "light"
          }
        },
        {
          "output_type": "stream",
          "text": [
            "(1, 150, 150, 3)\n",
            "[[9.9996793e-01 5.4188297e-07 1.0926413e-05 1.4421586e-07 1.7868453e-05\n",
            "  2.4973710e-06]]\n"
          ],
          "name": "stdout"
        }
      ]
    },
    {
      "cell_type": "code",
      "metadata": {
        "id": "UpUe-ztSCXzq",
        "colab": {
          "base_uri": "https://localhost:8080/",
          "height": 34
        },
        "outputId": "dfd0dc5e-4ad0-417a-9328-f0d87914c00e"
      },
      "source": [
        "classes = train_generator.class_indices \n",
        "print(classes) "
      ],
      "execution_count": null,
      "outputs": [
        {
          "output_type": "stream",
          "text": [
            "{'Apple': 0, 'Beetroot': 1, 'Dates': 2, 'Mango': 3, 'Orange': 4, 'Pomegranate': 5}\n"
          ],
          "name": "stdout"
        }
      ]
    }
  ]
}